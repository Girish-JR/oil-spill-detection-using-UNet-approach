{
  "metadata": {
    "kernelspec": {
      "language": "python",
      "display_name": "Python 3",
      "name": "python3"
    },
    "language_info": {
      "name": "python",
      "version": "3.10.12",
      "mimetype": "text/x-python",
      "codemirror_mode": {
        "name": "ipython",
        "version": 3
      },
      "pygments_lexer": "ipython3",
      "nbconvert_exporter": "python",
      "file_extension": ".py"
    },
    "kaggle": {
      "accelerator": "nvidiaTeslaT4",
      "dataSources": [
        {
          "sourceId": 6362486,
          "sourceType": "datasetVersion",
          "datasetId": 3665153
        }
      ],
      "dockerImageVersionId": 30528,
      "isInternetEnabled": true,
      "language": "python",
      "sourceType": "notebook",
      "isGpuEnabled": true
    },
    "colab": {
      "provenance": []
    }
  },
  "nbformat_minor": 0,
  "nbformat": 4,
  "cells": [
    {
      "source": [
        "\n",
        "# IMPORTANT: RUN THIS CELL IN ORDER TO IMPORT YOUR KAGGLE DATA SOURCES\n",
        "# TO THE CORRECT LOCATION (/kaggle/input) IN YOUR NOTEBOOK,\n",
        "# THEN FEEL FREE TO DELETE THIS CELL.\n",
        "# NOTE: THIS NOTEBOOK ENVIRONMENT DIFFERS FROM KAGGLE'S PYTHON\n",
        "# ENVIRONMENT SO THERE MAY BE MISSING LIBRARIES USED BY YOUR\n",
        "# NOTEBOOK.\n",
        "\n",
        "import os\n",
        "import sys\n",
        "from tempfile import NamedTemporaryFile\n",
        "from urllib.request import urlopen\n",
        "from urllib.parse import unquote, urlparse\n",
        "from urllib.error import HTTPError\n",
        "from zipfile import ZipFile\n",
        "import tarfile\n",
        "import shutil\n",
        "\n",
        "CHUNK_SIZE = 40960\n",
        "DATA_SOURCE_MAPPING = 'oil-spill:https%3A%2F%2Fstorage.googleapis.com%2Fkaggle-data-sets%2F3665153%2F6362486%2Fbundle%2Farchive.zip%3FX-Goog-Algorithm%3DGOOG4-RSA-SHA256%26X-Goog-Credential%3Dgcp-kaggle-com%2540kaggle-161607.iam.gserviceaccount.com%252F20240731%252Fauto%252Fstorage%252Fgoog4_request%26X-Goog-Date%3D20240731T085944Z%26X-Goog-Expires%3D259200%26X-Goog-SignedHeaders%3Dhost%26X-Goog-Signature%3D3ddee42091d41891eafacc8aa34e547a7e4695199240056bb10646491ebbbc5d64b1c0c9b23e81a066ee0c09161ddd38be5f9f89948f80a6db9f675ae682a31da65eba638bbcf76efe04233d0b8eef1d5279d5cc3e5198a3da8f8d03f7f526d41095e69d5106b2d7762ba652ba9106a91bb7f1de79ffeec59db23ca34a1df20ed8ca3c383c1f8d73b4e818a30a05695caf7cdaff33ca773fbc0a695be19e59f6c6651077f23450a25d59b4b3224077b8c106a7791b1bcf758d22999b66462055f5294aa36a5c2e69fafcd531bf40f0b5227e1ee452c741bdf6273d39a512c35487210aff0531376345ae065e4d54dcf591ba777711e565a0a2a5056d032c28f3'\n",
        "\n",
        "KAGGLE_INPUT_PATH='/kaggle/input'\n",
        "KAGGLE_WORKING_PATH='/kaggle/working'\n",
        "KAGGLE_SYMLINK='kaggle'\n",
        "\n",
        "!umount /kaggle/input/ 2> /dev/null\n",
        "shutil.rmtree('/kaggle/input', ignore_errors=True)\n",
        "os.makedirs(KAGGLE_INPUT_PATH, 0o777, exist_ok=True)\n",
        "os.makedirs(KAGGLE_WORKING_PATH, 0o777, exist_ok=True)\n",
        "\n",
        "try:\n",
        "  os.symlink(KAGGLE_INPUT_PATH, os.path.join(\"..\", 'input'), target_is_directory=True)\n",
        "except FileExistsError:\n",
        "  pass\n",
        "try:\n",
        "  os.symlink(KAGGLE_WORKING_PATH, os.path.join(\"..\", 'working'), target_is_directory=True)\n",
        "except FileExistsError:\n",
        "  pass\n",
        "\n",
        "for data_source_mapping in DATA_SOURCE_MAPPING.split(','):\n",
        "    directory, download_url_encoded = data_source_mapping.split(':')\n",
        "    download_url = unquote(download_url_encoded)\n",
        "    filename = urlparse(download_url).path\n",
        "    destination_path = os.path.join(KAGGLE_INPUT_PATH, directory)\n",
        "    try:\n",
        "        with urlopen(download_url) as fileres, NamedTemporaryFile() as tfile:\n",
        "            total_length = fileres.headers['content-length']\n",
        "            print(f'Downloading {directory}, {total_length} bytes compressed')\n",
        "            dl = 0\n",
        "            data = fileres.read(CHUNK_SIZE)\n",
        "            while len(data) > 0:\n",
        "                dl += len(data)\n",
        "                tfile.write(data)\n",
        "                done = int(50 * dl / int(total_length))\n",
        "                sys.stdout.write(f\"\\r[{'=' * done}{' ' * (50-done)}] {dl} bytes downloaded\")\n",
        "                sys.stdout.flush()\n",
        "                data = fileres.read(CHUNK_SIZE)\n",
        "            if filename.endswith('.zip'):\n",
        "              with ZipFile(tfile) as zfile:\n",
        "                zfile.extractall(destination_path)\n",
        "            else:\n",
        "              with tarfile.open(tfile.name) as tarfile:\n",
        "                tarfile.extractall(destination_path)\n",
        "            print(f'\\nDownloaded and uncompressed: {directory}')\n",
        "    except HTTPError as e:\n",
        "        print(f'Failed to load (likely expired) {download_url} to path {destination_path}')\n",
        "        continue\n",
        "    except OSError as e:\n",
        "        print(f'Failed to load {download_url} to path {destination_path}')\n",
        "        continue\n",
        "\n",
        "print('Data source import complete.')\n"
      ],
      "metadata": {
        "id": "OdRrQJdoAcLQ"
      },
      "cell_type": "code",
      "outputs": [],
      "execution_count": null
    },
    {
      "cell_type": "markdown",
      "source": [
        "## import libraries"
      ],
      "metadata": {
        "id": "1sZtBdgDqjGu"
      }
    },
    {
      "cell_type": "code",
      "source": [
        "import numpy as np\n",
        "import pandas as pd\n",
        "import matplotlib.pyplot as plt\n",
        "import matplotlib.image as mpimg\n",
        "\n",
        "import cv2\n",
        "import PIL.Image as Image\n",
        "from PIL import ImageOps\n",
        "import os\n",
        "import glob as glob\n",
        "import seaborn as sns\n",
        "\n",
        "import tensorflow as tf\n",
        "from keras import layers, models, callbacks\n",
        "from keras.models import Sequential, Model\n",
        "from keras.utils import load_img, normalize\n",
        "from keras.layers import Input, Conv2D, MaxPooling2D, UpSampling2D, Conv2DTranspose, AveragePooling2D\n",
        "from keras.layers import Concatenate, concatenate, BatchNormalization, Dropout, Lambda, Activation\n",
        "from keras.applications import ResNet50\n",
        "\n",
        "from tqdm import tqdm\n",
        "from skimage.io import imread, imshow\n",
        "from skimage.transform import resize\n",
        "import random\n",
        "from IPython.display import Image, display\n",
        "\n",
        "from sklearn.metrics import confusion_matrix\n",
        "from sklearn.metrics import precision_score, recall_score, f1_score\n",
        "from sklearn.metrics import precision_recall_fscore_support\n",
        "\n",
        "from keras.models import Model\n",
        "from keras import backend as K"
      ],
      "metadata": {
        "id": "YyR9mxj1vgra",
        "execution": {
          "iopub.status.busy": "2023-11-11T18:20:15.933963Z",
          "iopub.execute_input": "2023-11-11T18:20:15.934622Z",
          "iopub.status.idle": "2023-11-11T18:20:16.349194Z",
          "shell.execute_reply.started": "2023-11-11T18:20:15.934588Z",
          "shell.execute_reply": "2023-11-11T18:20:16.348393Z"
        },
        "trusted": true
      },
      "execution_count": null,
      "outputs": []
    },
    {
      "cell_type": "markdown",
      "source": [
        "## Prepare paths of input images and target segmentation masks for train and test set"
      ],
      "metadata": {
        "id": "TZNtzUj4qjGx"
      }
    },
    {
      "cell_type": "code",
      "source": [
        "IMG_HEIGHT = 256\n",
        "IMG_WIDTH = 256\n",
        "IMG_CLASSES = 5\n",
        "IMG_CHANNELS = 3\n",
        "\n",
        "IMG_PATH = '/kaggle/input/oil-spill/oil-spill/train/images'\n",
        "LABELS_PATH = '/kaggle/input/oil-spill/oil-spill/train/labels'\n",
        "\n",
        "IMG_PATH_TEST = '/kaggle/input/oil-spill/oil-spill/test/images'\n",
        "LABELS_PATH_TEST = '/kaggle/input/oil-spill/oil-spill/test/labels'"
      ],
      "metadata": {
        "id": "zJEcNIM7v1Rq",
        "execution": {
          "iopub.status.busy": "2023-11-11T17:42:52.8653Z",
          "iopub.execute_input": "2023-11-11T17:42:52.86613Z",
          "iopub.status.idle": "2023-11-11T17:42:52.871987Z",
          "shell.execute_reply.started": "2023-11-11T17:42:52.866092Z",
          "shell.execute_reply": "2023-11-11T17:42:52.870689Z"
        },
        "trusted": true
      },
      "execution_count": null,
      "outputs": []
    },
    {
      "cell_type": "code",
      "source": [
        "# Get a list of all image filenames in the directory\n",
        "IMG_IDS = sorted(os.listdir(IMG_PATH))\n",
        "LABELS_IDS = sorted(os.listdir(LABELS_PATH))\n",
        "\n",
        "IMG_IDS_TEST = sorted(os.listdir(IMG_PATH_TEST))\n",
        "LABELS_IDS_TEST = sorted(os.listdir(LABELS_PATH_TEST))"
      ],
      "metadata": {
        "execution": {
          "iopub.status.busy": "2023-11-11T17:42:52.873179Z",
          "iopub.execute_input": "2023-11-11T17:42:52.87353Z",
          "iopub.status.idle": "2023-11-11T17:42:53.73772Z",
          "shell.execute_reply.started": "2023-11-11T17:42:52.873498Z",
          "shell.execute_reply": "2023-11-11T17:42:53.736805Z"
        },
        "trusted": true,
        "id": "g-fQmFV6AcLZ"
      },
      "execution_count": null,
      "outputs": []
    },
    {
      "cell_type": "code",
      "source": [
        "# Choose a random image and mask filename from the list\n",
        "random_image_name = IMG_IDS[5]\n",
        "random_mask_name = LABELS_IDS[5]\n",
        "\n",
        "# Construct the full image path\n",
        "image_path = os.path.join(IMG_PATH, random_image_name)\n",
        "mask_path = os.path.join(LABELS_PATH, random_mask_name)\n",
        "\n",
        "# Read and plot the image\n",
        "img = mpimg.imread(image_path)\n",
        "mask = mpimg.imread(mask_path)\n",
        "\n",
        "plt.imshow(img)\n",
        "plt.axis('off')\n",
        "plt.show()\n",
        "\n",
        "print(\"Randomly selected image:\", random_image_name)\n",
        "\n",
        "plt.imshow(mask)\n",
        "plt.axis('off')\n",
        "plt.show()\n",
        "\n",
        "print(\"Randomly selected mask:\", random_mask_name)"
      ],
      "metadata": {
        "execution": {
          "iopub.status.busy": "2023-11-11T17:42:53.740055Z",
          "iopub.execute_input": "2023-11-11T17:42:53.740378Z",
          "iopub.status.idle": "2023-11-11T17:42:54.27336Z",
          "shell.execute_reply.started": "2023-11-11T17:42:53.740351Z",
          "shell.execute_reply": "2023-11-11T17:42:54.27231Z"
        },
        "trusted": true,
        "id": "sJQdPw3rAcLa"
      },
      "execution_count": null,
      "outputs": []
    },
    {
      "cell_type": "code",
      "source": [
        "COLOR_MAP = [\n",
        "    [0, 0, 0],\n",
        "    [0, 255, 255],\n",
        "    [255, 0, 0],\n",
        "    [153, 76, 0],\n",
        "    [0, 153, 0],\n",
        "]\n",
        "\n",
        "def process_mask(rgb_mask, colormap):\n",
        "    output_mask = []\n",
        "\n",
        "    for i, color in enumerate(colormap):\n",
        "        cmap = np.all(np.equal(rgb_mask, color), axis=-1)\n",
        "        output_mask.append(cmap)\n",
        "\n",
        "    output_mask = np.stack(output_mask, axis=-1)\n",
        "    return output_mask"
      ],
      "metadata": {
        "id": "Xhd3j2ee_lCm",
        "execution": {
          "iopub.status.busy": "2023-11-11T17:42:54.275008Z",
          "iopub.execute_input": "2023-11-11T17:42:54.275689Z",
          "iopub.status.idle": "2023-11-11T17:42:54.284737Z",
          "shell.execute_reply.started": "2023-11-11T17:42:54.275648Z",
          "shell.execute_reply": "2023-11-11T17:42:54.282909Z"
        },
        "trusted": true
      },
      "execution_count": null,
      "outputs": []
    },
    {
      "cell_type": "code",
      "source": [
        "train_images = []\n",
        "train_masks = []\n",
        "\n",
        "test_images = []\n",
        "test_masks = []"
      ],
      "metadata": {
        "execution": {
          "iopub.status.busy": "2023-11-11T17:42:54.287292Z",
          "iopub.execute_input": "2023-11-11T17:42:54.287814Z",
          "iopub.status.idle": "2023-11-11T17:42:54.299856Z",
          "shell.execute_reply.started": "2023-11-11T17:42:54.287767Z",
          "shell.execute_reply": "2023-11-11T17:42:54.298184Z"
        },
        "trusted": true,
        "id": "2if2R1zfAcLb"
      },
      "execution_count": null,
      "outputs": []
    },
    {
      "cell_type": "markdown",
      "source": [
        "## train set"
      ],
      "metadata": {
        "id": "Enf_hnjIqjG0"
      }
    },
    {
      "cell_type": "code",
      "source": [
        "for image_filename, mask_filename in tqdm(zip(IMG_IDS, LABELS_IDS),total = len(IMG_IDS)):\n",
        "    image_path = os.path.join(IMG_PATH, image_filename)\n",
        "    mask_path = os.path.join(LABELS_PATH, mask_filename)\n",
        "\n",
        "    image = cv2.imread(image_path,cv2.IMREAD_COLOR)\n",
        "\n",
        "    image = cv2.resize(image, (IMG_HEIGHT, IMG_WIDTH))\n",
        "\n",
        "    # normalizing the image\n",
        "    image = image / 255.0\n",
        "\n",
        "    mask = cv2.imread(mask_path, cv2.IMREAD_COLOR)\n",
        "    mask = cv2.resize(mask, (IMG_HEIGHT, IMG_WIDTH))\n",
        "    mask = cv2.cvtColor(mask, cv2.COLOR_BGR2RGB)\n",
        "\n",
        "    processed_mask = process_mask(mask,COLOR_MAP)\n",
        "    grayscale_mask = np.argmax(processed_mask, axis=-1)\n",
        "    grayscale_mask = np.expand_dims(grayscale_mask, axis=-1)\n",
        "\n",
        "    train_images.append(image)\n",
        "    train_masks.append(grayscale_mask)\n",
        "\n",
        "# Convert the lists to arrays\n",
        "train_images = np.array(train_images)\n",
        "train_masks = np.array(train_masks)"
      ],
      "metadata": {
        "id": "I1Kk37rY_lCn",
        "execution": {
          "iopub.status.busy": "2023-11-11T17:42:54.301569Z",
          "iopub.execute_input": "2023-11-11T17:42:54.302898Z",
          "iopub.status.idle": "2023-11-11T17:43:56.644789Z",
          "shell.execute_reply.started": "2023-11-11T17:42:54.302833Z",
          "shell.execute_reply": "2023-11-11T17:43:56.643953Z"
        },
        "trusted": true
      },
      "execution_count": null,
      "outputs": []
    },
    {
      "cell_type": "code",
      "source": [
        "train_masks.shape"
      ],
      "metadata": {
        "execution": {
          "iopub.status.busy": "2023-11-11T17:43:56.646048Z",
          "iopub.execute_input": "2023-11-11T17:43:56.646379Z",
          "iopub.status.idle": "2023-11-11T17:43:56.652616Z",
          "shell.execute_reply.started": "2023-11-11T17:43:56.646324Z",
          "shell.execute_reply": "2023-11-11T17:43:56.65168Z"
        },
        "trusted": true,
        "id": "GRk8B7lTAcLd"
      },
      "execution_count": null,
      "outputs": []
    },
    {
      "cell_type": "code",
      "source": [
        "unique_values = np.unique(train_masks)\n",
        "print(\"Unique values in train_masks:\", unique_values)"
      ],
      "metadata": {
        "execution": {
          "iopub.status.busy": "2023-11-11T17:43:56.653932Z",
          "iopub.execute_input": "2023-11-11T17:43:56.654271Z",
          "iopub.status.idle": "2023-11-11T17:43:58.08445Z",
          "shell.execute_reply.started": "2023-11-11T17:43:56.654239Z",
          "shell.execute_reply": "2023-11-11T17:43:58.08339Z"
        },
        "trusted": true,
        "id": "iNNWZYZOAcLd"
      },
      "execution_count": null,
      "outputs": []
    },
    {
      "cell_type": "markdown",
      "source": [
        "## Plotting the train images"
      ],
      "metadata": {
        "id": "DT0as_LCAcLd"
      }
    },
    {
      "cell_type": "code",
      "source": [
        "import matplotlib.colors as mcolors\n",
        "\n",
        "# Scale the color values in COLOR_MAP to the range [0, 1]\n",
        "scaled_color_map = [[c[0] / 255.0, c[1] / 255.0, c[2] / 255.0] for c in COLOR_MAP]\n",
        "\n",
        "# Define a consistent color map based on the scaled COLOR_MAP\n",
        "cmap = mcolors.ListedColormap(scaled_color_map)\n",
        "num_images_to_plot = 5\n",
        "for i in range(num_images_to_plot):\n",
        "    plt.figure(figsize=(12, 6))  # Adjust the figure size as needed\n",
        "    plt.subplot(1, 2, 1)  # Subplot for the image\n",
        "    plt.imshow(train_images[i])  # Display the image\n",
        "    plt.title(\"Image\")\n",
        "\n",
        "    plt.subplot(1, 2, 2)  # Subplot for the processed mask\n",
        "    plt.imshow(train_masks[i].squeeze(), cmap=cmap, vmin=0, vmax=len(COLOR_MAP) - 1, interpolation='none')\n",
        "    plt.colorbar(ticks=range(len(COLOR_MAP)))\n",
        "    plt.title(\"Processed Mask (Class Indices)\")\n",
        "\n",
        "    plt.show()"
      ],
      "metadata": {
        "execution": {
          "iopub.status.busy": "2023-11-11T17:43:58.089272Z",
          "iopub.execute_input": "2023-11-11T17:43:58.08962Z",
          "iopub.status.idle": "2023-11-11T17:44:01.111179Z",
          "shell.execute_reply.started": "2023-11-11T17:43:58.089591Z",
          "shell.execute_reply": "2023-11-11T17:44:01.11026Z"
        },
        "trusted": true,
        "id": "Bz4xMbigAcLd"
      },
      "execution_count": null,
      "outputs": []
    },
    {
      "cell_type": "markdown",
      "source": [
        "## test set"
      ],
      "metadata": {
        "id": "ChEklj64qjG0"
      }
    },
    {
      "cell_type": "code",
      "source": [
        "for image_filename, mask_filename in tqdm(zip(IMG_IDS_TEST, LABELS_IDS_TEST),total = len(IMG_IDS_TEST)):\n",
        "    image_path = os.path.join(IMG_PATH_TEST, image_filename)\n",
        "    mask_path = os.path.join(LABELS_PATH_TEST, mask_filename)\n",
        "\n",
        "    image = cv2.imread(image_path,cv2.IMREAD_COLOR)\n",
        "\n",
        "    image = cv2.resize(image, (IMG_HEIGHT, IMG_WIDTH))\n",
        "\n",
        "    # normalizing the image\n",
        "    image = image / 255.0\n",
        "\n",
        "    mask = cv2.imread(mask_path, cv2.IMREAD_COLOR)\n",
        "    mask = cv2.resize(mask, (IMG_HEIGHT, IMG_WIDTH))\n",
        "    mask = cv2.cvtColor(mask, cv2.COLOR_BGR2RGB)\n",
        "\n",
        "    processed_mask = process_mask(mask,COLOR_MAP)\n",
        "    grayscale_mask = np.argmax(processed_mask, axis=-1)\n",
        "    grayscale_mask = np.expand_dims(grayscale_mask, axis=-1)\n",
        "\n",
        "    test_images.append(image)\n",
        "    test_masks.append(grayscale_mask)\n",
        "\n",
        "# Convert the lists to np arrays\n",
        "test_images = np.array(test_images)\n",
        "test_masks = np.array(test_masks)"
      ],
      "metadata": {
        "id": "E4Ul7aIZV5zT",
        "execution": {
          "iopub.status.busy": "2023-11-11T17:44:01.112665Z",
          "iopub.execute_input": "2023-11-11T17:44:01.113026Z",
          "iopub.status.idle": "2023-11-11T17:44:08.74511Z",
          "shell.execute_reply.started": "2023-11-11T17:44:01.112995Z",
          "shell.execute_reply": "2023-11-11T17:44:08.744267Z"
        },
        "trusted": true
      },
      "execution_count": null,
      "outputs": []
    },
    {
      "cell_type": "code",
      "source": [
        "test_masks.shape"
      ],
      "metadata": {
        "execution": {
          "iopub.status.busy": "2023-11-11T17:44:08.74623Z",
          "iopub.execute_input": "2023-11-11T17:44:08.747587Z",
          "iopub.status.idle": "2023-11-11T17:44:08.753624Z",
          "shell.execute_reply.started": "2023-11-11T17:44:08.747559Z",
          "shell.execute_reply": "2023-11-11T17:44:08.752751Z"
        },
        "trusted": true,
        "id": "qlZGBBIqAcLe"
      },
      "execution_count": null,
      "outputs": []
    },
    {
      "cell_type": "code",
      "source": [
        "unique_values = np.unique(test_masks)\n",
        "print(\"Unique values in test_masks:\", unique_values)"
      ],
      "metadata": {
        "execution": {
          "iopub.status.busy": "2023-11-11T17:44:08.754691Z",
          "iopub.execute_input": "2023-11-11T17:44:08.75494Z",
          "iopub.status.idle": "2023-11-11T17:44:08.901418Z",
          "shell.execute_reply.started": "2023-11-11T17:44:08.754911Z",
          "shell.execute_reply": "2023-11-11T17:44:08.900383Z"
        },
        "trusted": true,
        "id": "rbcsSEOaAcLe"
      },
      "execution_count": null,
      "outputs": []
    },
    {
      "cell_type": "markdown",
      "source": [
        "## Using to_categorical for the masks"
      ],
      "metadata": {
        "id": "-E5GJvli_lCn"
      }
    },
    {
      "cell_type": "code",
      "source": [
        "from keras.utils import to_categorical\n",
        "\n",
        "train_masks = to_categorical(train_masks, num_classes = 5)"
      ],
      "metadata": {
        "id": "OwSKOzDk_lCo",
        "execution": {
          "iopub.status.busy": "2023-11-11T17:44:08.90274Z",
          "iopub.execute_input": "2023-11-11T17:44:08.90309Z",
          "iopub.status.idle": "2023-11-11T17:44:10.617318Z",
          "shell.execute_reply.started": "2023-11-11T17:44:08.90306Z",
          "shell.execute_reply": "2023-11-11T17:44:10.616478Z"
        },
        "trusted": true
      },
      "execution_count": null,
      "outputs": []
    },
    {
      "cell_type": "code",
      "source": [
        "print(train_images.shape)\n",
        "print(train_masks.shape)"
      ],
      "metadata": {
        "execution": {
          "iopub.status.busy": "2023-11-11T17:44:10.618452Z",
          "iopub.execute_input": "2023-11-11T17:44:10.61873Z",
          "iopub.status.idle": "2023-11-11T17:44:10.623754Z",
          "shell.execute_reply.started": "2023-11-11T17:44:10.618706Z",
          "shell.execute_reply": "2023-11-11T17:44:10.622846Z"
        },
        "trusted": true,
        "id": "2sgp4stIAcLe"
      },
      "execution_count": null,
      "outputs": []
    },
    {
      "cell_type": "code",
      "source": [
        "print(test_images.shape)\n",
        "print(test_masks.shape)"
      ],
      "metadata": {
        "execution": {
          "iopub.status.busy": "2023-11-11T17:44:10.625067Z",
          "iopub.execute_input": "2023-11-11T17:44:10.625397Z",
          "iopub.status.idle": "2023-11-11T17:44:10.636746Z",
          "shell.execute_reply.started": "2023-11-11T17:44:10.625362Z",
          "shell.execute_reply": "2023-11-11T17:44:10.635783Z"
        },
        "trusted": true,
        "id": "sCTkIoW6AcLf"
      },
      "execution_count": null,
      "outputs": []
    },
    {
      "cell_type": "code",
      "source": [
        "print(np.unique(train_masks))\n",
        "print(np.unique(test_masks))"
      ],
      "metadata": {
        "execution": {
          "iopub.status.busy": "2023-11-11T17:44:10.638Z",
          "iopub.execute_input": "2023-11-11T17:44:10.638523Z",
          "iopub.status.idle": "2023-11-11T17:44:32.14468Z",
          "shell.execute_reply.started": "2023-11-11T17:44:10.638489Z",
          "shell.execute_reply": "2023-11-11T17:44:32.143534Z"
        },
        "trusted": true,
        "id": "F1Z2jft2AcLf"
      },
      "execution_count": null,
      "outputs": []
    },
    {
      "cell_type": "markdown",
      "source": [
        "## train masks pixel count"
      ],
      "metadata": {
        "id": "rl5Th2KQAcLf"
      }
    },
    {
      "cell_type": "code",
      "source": [
        "num_classes = 5\n",
        "\n",
        "# Calculate pixel counts for each class\n",
        "class_pixel_counts = np.sum(train_masks, axis=(0, 1, 2))\n",
        "\n",
        "# Class labels\n",
        "class_labels = [f'Class {i}' for i in range(num_classes)]\n",
        "\n",
        "# Define different colors for each class\n",
        "colors = ['black', 'cyan', 'red', 'brown', 'green']\n",
        "\n",
        "# Plotting the bar graph with different colors and added styling\n",
        "plt.figure(figsize=(10, 6))\n",
        "bars = plt.bar(class_labels, class_pixel_counts, color=colors)\n",
        "\n",
        "# Adding labels and title\n",
        "plt.xlabel('Class')\n",
        "plt.ylabel('Pixel Count')\n",
        "plt.title('Pixel Count for Each Class')\n",
        "\n",
        "# Adding legend\n",
        "plt.legend(bars, class_labels)\n",
        "\n",
        "# Adding grid for better readability\n",
        "plt.grid(axis='y', linestyle='--', alpha=0.7)\n",
        "\n",
        "# Adding value annotations on top of each bar\n",
        "for bar, count in zip(bars, class_pixel_counts):\n",
        "    plt.text(bar.get_x() + bar.get_width() / 2, bar.get_height() + 0.05 * max(class_pixel_counts),\n",
        "             f'{count}', ha='center', va='bottom', color='black', fontweight='bold')\n",
        "\n",
        "plt.show()"
      ],
      "metadata": {
        "execution": {
          "iopub.status.busy": "2023-11-11T17:44:32.146206Z",
          "iopub.execute_input": "2023-11-11T17:44:32.146669Z",
          "iopub.status.idle": "2023-11-11T17:44:33.975645Z",
          "shell.execute_reply.started": "2023-11-11T17:44:32.146628Z",
          "shell.execute_reply": "2023-11-11T17:44:33.974514Z"
        },
        "trusted": true,
        "id": "LwpZ6FPjAcLf"
      },
      "execution_count": null,
      "outputs": []
    },
    {
      "cell_type": "code",
      "source": [
        "input_shape = (IMG_HEIGHT, IMG_WIDTH, IMG_CHANNELS)"
      ],
      "metadata": {
        "execution": {
          "iopub.status.busy": "2023-11-11T17:44:33.976946Z",
          "iopub.execute_input": "2023-11-11T17:44:33.977238Z",
          "iopub.status.idle": "2023-11-11T17:44:33.981858Z",
          "shell.execute_reply.started": "2023-11-11T17:44:33.977212Z",
          "shell.execute_reply": "2023-11-11T17:44:33.980789Z"
        },
        "trusted": true,
        "id": "flCJPaCEAcLf"
      },
      "execution_count": null,
      "outputs": []
    },
    {
      "cell_type": "markdown",
      "source": [
        "# UNet Model"
      ],
      "metadata": {
        "id": "pNKl7gXYAcLg"
      }
    },
    {
      "cell_type": "code",
      "source": [
        "def UNet(input_shape, IMG_CLASSES):\n",
        "\n",
        "    inputs = Input(input_shape)\n",
        "\n",
        "    c1 = Conv2D(16, (3,3), activation=\"relu\", kernel_initializer=\"he_normal\", padding=\"same\")(inputs)\n",
        "    c1 = Dropout(0.1)(c1)\n",
        "    c1 = Conv2D(16, (3,3), activation=\"relu\", kernel_initializer=\"he_normal\", padding=\"same\")(c1)\n",
        "    p1 = MaxPooling2D((2,2))(c1)\n",
        "\n",
        "    c2 = Conv2D(32, (3,3), activation=\"relu\", kernel_initializer=\"he_normal\", padding=\"same\")(p1)\n",
        "    c2 = Dropout(0.1)(c2)\n",
        "    c2 = Conv2D(32, (3,3), activation=\"relu\", kernel_initializer=\"he_normal\", padding=\"same\")(c2)\n",
        "    p2 = MaxPooling2D((2,2))(c2)\n",
        "\n",
        "    c3 = Conv2D(64, (3,3), activation=\"relu\", kernel_initializer=\"he_normal\", padding=\"same\")(p2)\n",
        "    c3 = Dropout(0.2)(c3)\n",
        "    c3 = Conv2D(64, (3,3), activation=\"relu\", kernel_initializer=\"he_normal\", padding=\"same\")(c3)\n",
        "    p3 = MaxPooling2D((2,2))(c3)\n",
        "\n",
        "    c4 = Conv2D(128, (3,3), activation=\"relu\", kernel_initializer=\"he_normal\", padding=\"same\")(p3)\n",
        "    c4 = Dropout(0.2)(c4)\n",
        "    c4 = Conv2D(128, (3,3), activation=\"relu\", kernel_initializer=\"he_normal\", padding=\"same\")(c4)\n",
        "    p4 = MaxPooling2D((2,2))(c4)\n",
        "\n",
        "    c5 = Conv2D(256, (3,3), activation=\"relu\", kernel_initializer=\"he_normal\", padding=\"same\")(p4)\n",
        "    c5 = Dropout(0.3)(c5)\n",
        "    c5 = Conv2D(256, (3,3), activation=\"relu\", kernel_initializer=\"he_normal\", padding=\"same\")(c5)\n",
        "\n",
        "    u6 = Conv2DTranspose(128, (2,2), strides=(2,2), padding=\"same\")(c5)\n",
        "    u6 = concatenate([u6, c4])\n",
        "    c6 = Conv2D(128, (3,3), activation=\"relu\", kernel_initializer=\"he_normal\", padding=\"same\")(u6)\n",
        "    c6 = Dropout(0.2)(c6)\n",
        "    c6 = Conv2D(128, (3,3), activation=\"relu\", kernel_initializer=\"he_normal\", padding=\"same\")(c6)\n",
        "\n",
        "    u7 = Conv2DTranspose(64, (2,2), strides=(2,2), padding=\"same\")(c6)\n",
        "    u7 = concatenate([u7, c3])\n",
        "    c7 = Conv2D(64, (3,3), activation=\"relu\", kernel_initializer=\"he_normal\", padding=\"same\")(u7)\n",
        "    c7 = Dropout(0.2)(c7)\n",
        "    c7 = Conv2D(64, (3,3), activation=\"relu\", kernel_initializer=\"he_normal\", padding=\"same\")(c7)\n",
        "\n",
        "    u8 = Conv2DTranspose(32, (2,2), strides=(2,2), padding=\"same\")(c7)\n",
        "    u8 = concatenate([u8, c2])\n",
        "    c8 = Conv2D(32, (3,3), activation=\"relu\", kernel_initializer=\"he_normal\", padding=\"same\")(u8)\n",
        "    c8 = Dropout(0.1)(c8)\n",
        "    c8 = Conv2D(32, (3,3), activation=\"relu\", kernel_initializer=\"he_normal\", padding=\"same\")(c8)\n",
        "\n",
        "    u9 = Conv2DTranspose(16, (2,2), strides=(2,2), padding=\"same\")(c8)\n",
        "    u9 = concatenate([u9, c1], axis=3)\n",
        "    c9 = Conv2D(16, (3,3), activation=\"relu\", kernel_initializer=\"he_normal\", padding=\"same\")(u9)\n",
        "    c9 = Dropout(0.1)(c9)\n",
        "    c9 = Conv2D(16, (3,3), activation=\"relu\", kernel_initializer=\"he_normal\", padding=\"same\")(c9)\n",
        "\n",
        "    outputs = Conv2D(IMG_CLASSES, (1,1), activation=\"softmax\")(c9)\n",
        "\n",
        "    model = Model(inputs, outputs)\n",
        "    return model"
      ],
      "metadata": {
        "id": "1t3Qr67-_lCo",
        "execution": {
          "iopub.status.busy": "2023-11-11T17:44:33.983293Z",
          "iopub.execute_input": "2023-11-11T17:44:33.983764Z",
          "iopub.status.idle": "2023-11-11T17:44:34.004677Z",
          "shell.execute_reply.started": "2023-11-11T17:44:33.983726Z",
          "shell.execute_reply": "2023-11-11T17:44:34.003849Z"
        },
        "trusted": true
      },
      "execution_count": null,
      "outputs": []
    },
    {
      "cell_type": "code",
      "source": [
        "unet_model = UNet(input_shape, IMG_CLASSES)\n",
        "\n",
        "unet_model.summary()"
      ],
      "metadata": {
        "execution": {
          "iopub.status.busy": "2023-11-11T17:44:34.005876Z",
          "iopub.execute_input": "2023-11-11T17:44:34.006165Z",
          "iopub.status.idle": "2023-11-11T17:44:40.138126Z",
          "shell.execute_reply.started": "2023-11-11T17:44:34.00614Z",
          "shell.execute_reply": "2023-11-11T17:44:40.13589Z"
        },
        "trusted": true,
        "id": "vjUk3IMDAcLg"
      },
      "execution_count": null,
      "outputs": []
    },
    {
      "cell_type": "code",
      "source": [
        "tf.keras.backend.clear_session()\n",
        "\n",
        "unet_model.compile(optimizer=\"adam\", loss='categorical_crossentropy', metrics='accuracy')"
      ],
      "metadata": {
        "id": "s83vODU__lCp",
        "execution": {
          "iopub.status.busy": "2023-11-11T17:44:40.139555Z",
          "iopub.execute_input": "2023-11-11T17:44:40.139867Z",
          "iopub.status.idle": "2023-11-11T17:44:40.177084Z",
          "shell.execute_reply.started": "2023-11-11T17:44:40.139838Z",
          "shell.execute_reply": "2023-11-11T17:44:40.176019Z"
        },
        "trusted": true
      },
      "execution_count": null,
      "outputs": []
    },
    {
      "cell_type": "markdown",
      "source": [
        "## Train the unet_model"
      ],
      "metadata": {
        "id": "1BE1XpEzqjG2"
      }
    },
    {
      "cell_type": "code",
      "source": [
        "unet_history = unet_model.fit(train_images, train_masks,\n",
        "                    epochs=100,\n",
        "                    batch_size=16,\n",
        "                    validation_split=0.1,\n",
        "                    verbose=1)"
      ],
      "metadata": {
        "id": "ukzYSLpFlNPV",
        "execution": {
          "iopub.status.busy": "2023-11-11T17:44:40.17841Z",
          "iopub.execute_input": "2023-11-11T17:44:40.178721Z",
          "iopub.status.idle": "2023-11-11T18:03:26.86179Z",
          "shell.execute_reply.started": "2023-11-11T17:44:40.178694Z",
          "shell.execute_reply": "2023-11-11T18:03:26.860835Z"
        },
        "trusted": true
      },
      "execution_count": null,
      "outputs": []
    },
    {
      "cell_type": "markdown",
      "source": [
        "## model visualisation"
      ],
      "metadata": {
        "id": "49eIK-V7_lCp"
      }
    },
    {
      "cell_type": "code",
      "source": [
        "# Access the training history\n",
        "unet_loss = unet_history.history['loss']\n",
        "unet_val_loss = unet_history.history['val_loss']\n",
        "unet_accuracy = unet_history.history['accuracy']\n",
        "unet_val_accuracy = unet_history.history['val_accuracy']\n",
        "\n",
        "# Plot training and validation loss\n",
        "plt.figure(figsize=(12, 4))\n",
        "plt.subplot(1, 2, 1)\n",
        "plt.plot(unet_loss, label='Training Loss')\n",
        "plt.plot(unet_val_loss, label='Validation Loss')\n",
        "plt.xlabel('Epochs')\n",
        "plt.ylabel('Loss')\n",
        "plt.title('Training and Validation Loss')\n",
        "plt.legend()\n",
        "\n",
        "# Plot training and validation accuracy\n",
        "plt.subplot(1, 2, 2)\n",
        "plt.plot(unet_accuracy, label='Training Accuracy')\n",
        "plt.plot(unet_val_accuracy, label='Validation Accuracy')\n",
        "plt.xlabel('Epochs')\n",
        "plt.ylabel('Accuracy')\n",
        "plt.title('Training and Validation Accuracy')\n",
        "plt.legend()\n",
        "plt.show()"
      ],
      "metadata": {
        "execution": {
          "iopub.status.busy": "2023-11-11T18:03:26.867711Z",
          "iopub.execute_input": "2023-11-11T18:03:26.868101Z",
          "iopub.status.idle": "2023-11-11T18:03:27.384381Z",
          "shell.execute_reply.started": "2023-11-11T18:03:26.868075Z",
          "shell.execute_reply": "2023-11-11T18:03:27.383443Z"
        },
        "trusted": true,
        "id": "UUReTGSOAcLh"
      },
      "execution_count": null,
      "outputs": []
    },
    {
      "cell_type": "markdown",
      "source": [
        "## prediciton visualization"
      ],
      "metadata": {
        "id": "gUvAUiDWAcLh"
      }
    },
    {
      "cell_type": "code",
      "source": [
        "# Generate a random index within the range of test_images\n",
        "test_image_number = random.randint(0, len(test_images) - 1)\n",
        "\n",
        "num_images_to_plot = 10\n",
        "for i in range(num_images_to_plot):\n",
        "    plt.figure(figsize=(12, 6))  # Adjust the figure size as needed\n",
        "\n",
        "    # Test Image\n",
        "    plt.subplot(1, 3, 1)  # Subplot for the image\n",
        "    test_image = test_images[i]\n",
        "    plt.imshow(test_image)  # Display the image\n",
        "    plt.title(\"Image\")\n",
        "\n",
        "    # Test Mask\n",
        "    plt.subplot(1, 3, 2)  # Subplot for the test mask\n",
        "    test_mask = test_masks[i]\n",
        "    plt.imshow(test_mask.squeeze(), cmap=cmap, vmin=0, vmax=len(COLOR_MAP) - 1, interpolation='none')\n",
        "    plt.colorbar(ticks=range(len(COLOR_MAP)))\n",
        "    plt.title(\"Test Mask\")\n",
        "\n",
        "    # Predicted Mask\n",
        "    plt.subplot(1, 3, 3)  # Subplot for the predicted mask\n",
        "    prediction_unet = unet_model.predict(np.expand_dims(test_image, axis=0))\n",
        "    predicted_mask_unet = np.argmax(prediction_unet, axis=3)[0, :, :]\n",
        "    plt.imshow(predicted_mask_unet.squeeze(), cmap=cmap, vmin=0, vmax=len(COLOR_MAP) - 1, interpolation='none')\n",
        "    plt.colorbar(ticks=range(len(COLOR_MAP)))\n",
        "    plt.title(\"Predicted Mask\")\n",
        "\n",
        "    plt.show()\n"
      ],
      "metadata": {
        "execution": {
          "iopub.status.busy": "2023-11-11T18:03:27.385693Z",
          "iopub.execute_input": "2023-11-11T18:03:27.386004Z",
          "iopub.status.idle": "2023-11-11T18:03:36.132005Z",
          "shell.execute_reply.started": "2023-11-11T18:03:27.385977Z",
          "shell.execute_reply": "2023-11-11T18:03:36.130997Z"
        },
        "trusted": true,
        "id": "2oMpUXTzAcLh"
      },
      "execution_count": null,
      "outputs": []
    },
    {
      "cell_type": "markdown",
      "source": [
        "## Confusion matrix for Unet model"
      ],
      "metadata": {
        "id": "bB8I2tjUAcLi"
      }
    },
    {
      "cell_type": "code",
      "source": [
        "prediction_unet = unet_model.predict(test_images)\n",
        "\n",
        "print(test_masks.shape)\n",
        "print(prediction_unet.shape)"
      ],
      "metadata": {
        "execution": {
          "iopub.status.busy": "2023-11-11T18:03:36.133439Z",
          "iopub.execute_input": "2023-11-11T18:03:36.133759Z",
          "iopub.status.idle": "2023-11-11T18:03:40.941349Z",
          "shell.execute_reply.started": "2023-11-11T18:03:36.133731Z",
          "shell.execute_reply": "2023-11-11T18:03:40.940325Z"
        },
        "trusted": true,
        "id": "8LFTCfr3AcLi"
      },
      "execution_count": null,
      "outputs": []
    },
    {
      "cell_type": "code",
      "source": [
        "# Flatten the arrays to 1D\n",
        "unet_true_labels = test_masks.flatten()\n",
        "unet_predicted_labels = np.argmax(prediction_unet, axis=-1).flatten()\n",
        "\n",
        "# Create the confusion matrix\n",
        "cm = confusion_matrix(unet_true_labels, unet_predicted_labels)\n",
        "\n",
        "# Plot the confusion matrix using seaborn\n",
        "sns.heatmap(cm, annot=True, fmt='d', cmap='Blues', xticklabels=['Class 0', 'Class 1', 'Class 2', 'Class 3', 'Class 4'], yticklabels=['Class 0', 'Class 1', 'Class 2', 'Class 3', 'Class 4'])\n",
        "plt.xlabel('Predicted')\n",
        "plt.ylabel('True')\n",
        "plt.title('Confusion Matrix for Unet model')\n",
        "plt.show()"
      ],
      "metadata": {
        "execution": {
          "iopub.status.busy": "2023-11-11T18:20:19.987753Z",
          "iopub.execute_input": "2023-11-11T18:20:19.988123Z",
          "iopub.status.idle": "2023-11-11T18:20:21.461794Z",
          "shell.execute_reply.started": "2023-11-11T18:20:19.988094Z",
          "shell.execute_reply": "2023-11-11T18:20:21.460771Z"
        },
        "trusted": true,
        "id": "F0zdo_z-AcLn"
      },
      "execution_count": null,
      "outputs": []
    },
    {
      "cell_type": "code",
      "source": [
        "# Calculate precision, recall, and F1 score\n",
        "precision = precision_score(unet_true_labels, unet_predicted_labels, average='weighted')\n",
        "recall = recall_score(unet_true_labels, unet_predicted_labels, average='weighted')\n",
        "f1 = f1_score(unet_true_labels, unet_predicted_labels, average='weighted')\n",
        "\n",
        "print(f'Precision: {precision:.4f}')\n",
        "print(f'Recall: {recall:.4f}')\n",
        "print(f'F1 Score: {f1:.4f}')"
      ],
      "metadata": {
        "execution": {
          "iopub.status.busy": "2023-11-11T18:20:21.717761Z",
          "iopub.execute_input": "2023-11-11T18:20:21.71861Z",
          "iopub.status.idle": "2023-11-11T18:20:28.169923Z",
          "shell.execute_reply.started": "2023-11-11T18:20:21.718576Z",
          "shell.execute_reply": "2023-11-11T18:20:28.168858Z"
        },
        "trusted": true,
        "id": "ZO0fyb6UAcLn"
      },
      "execution_count": null,
      "outputs": []
    }
  ]
}